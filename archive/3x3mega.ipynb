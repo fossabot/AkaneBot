{
 "cells": [
  {
   "cell_type": "code",
   "execution_count": null,
   "metadata": {},
   "outputs": [],
   "source": [
    "import requests\n",
    "\n",
    "query = \"\"\"\n",
    "\n",
    "\n",
    "\"\"\""
   ]
  },
  {
   "cell_type": "code",
   "execution_count": null,
   "metadata": {},
   "outputs": [],
   "source": [
    "def give_user_scores(user: str, type: str = \"ANIME\"):\n",
    "    query = \"\"\"\n",
    "query ($search: String, $type: MediaType) { # Define which variables will be used (id)\n",
    "MediaListCollection (userName: $search, type: $type) { # The sort param was POPULARITY_DESC\n",
    "    lists {\n",
    "        entries {\n",
    "            score (format: POINT_10_DECIMAL)\n",
    "            media {\n",
    "                id\n",
    "                title {\n",
    "                    romaji\n",
    "                }\n",
    "            }\n",
    "        }\n",
    "    }\n",
    "}\n",
    "}\n",
    "\n",
    "\"\"\"\n",
    "\n",
    "    variables = {\"search\": user, \"type\": type}\n",
    "\n",
    "    req =  requests.post(\n",
    "    \"https://graphql.anilist.co\",\n",
    "    json={\"query\": query, \"variables\": variables},\n",
    "    timeout=10,\n",
    "    ).json()\n",
    "    scores = []\n",
    "    for lists in req['data']['MediaListCollection']['lists']:\n",
    "        for entry in lists['entries']:\n",
    "            if entry['score'] > 0.1:\n",
    "                scores.append([entry['media']['id'], entry['media']['title'], entry['score']])\n",
    "    # print(scores)\n",
    "    return scores\n"
   ]
  },
  {
   "cell_type": "code",
   "execution_count": null,
   "metadata": {},
   "outputs": [],
   "source": [
    "import requests\n"
   ]
  },
  {
   "cell_type": "code",
   "execution_count": null,
   "metadata": {},
   "outputs": [],
   "source": [
    "\n",
    "users = [\"\"]\n",
    "final_scores = []\n",
    "for user in users:\n",
    "    final_scores += give_user_scores(user,\"MANGA\")\n",
    "\n",
    "final_scores\n"
   ]
  },
  {
   "cell_type": "code",
   "execution_count": null,
   "metadata": {},
   "outputs": [],
   "source": [
    "from collections import Counter\n",
    "\n",
    "# Sample list of lists\n",
    "data = final_scores\n",
    "\n",
    "# Use Counter to count the occurrences of the first entries\n",
    "counts = Counter(entry[0] for entry in data)\n",
    "\n",
    "# Create a dictionary to store the sum and count for each first entry\n",
    "averages = {}\n",
    "\n",
    "# Iterate over the data and update the sums and counts in the dictionary\n",
    "for entry in data:\n",
    "    key = entry[0]\n",
    "    name = entry[1]\n",
    "    value = entry[2]\n",
    "    if key not in averages:\n",
    "        averages[key] = {'sum': value, 'count': 1, 'name': name}\n",
    "    else:\n",
    "        averages[key]['sum'] += value\n",
    "        averages[key]['count'] += 1\n",
    "\n",
    "# Create a new list with averaged values and counters\n",
    "result = []\n",
    "print(averages)\n",
    "for key in averages:\n",
    "    average_value = averages[key]['sum'] / averages[key]['count']\n",
    "    result.append([key, averages[key]['name'], average_value, counts[key]])\n",
    "\n",
    "# Print the result\n",
    "result"
   ]
  },
  {
   "cell_type": "code",
   "execution_count": null,
   "metadata": {},
   "outputs": [],
   "source": [
    "def sort_list(e):\n",
    "    return e[2]\n",
    "\n",
    "result.sort(key=sort_list)\n",
    "result"
   ]
  },
  {
   "cell_type": "code",
   "execution_count": null,
   "metadata": {},
   "outputs": [],
   "source": [
    "real_final_list = []\n",
    "\n",
    "for item in result:\n",
    "    if item[3]>= 3:\n",
    "        real_final_list.append(item)\n",
    "    \n",
    "def final_sorter(e):\n",
    "    return e[2]\n",
    "\n",
    "real_final_list.sort(key=final_sorter, reverse=True)\n",
    "real_final_list"
   ]
  },
  {
   "cell_type": "code",
   "execution_count": null,
   "metadata": {},
   "outputs": [],
   "source": [
    "from PIL import Image, ImageDraw, ImageFont, ImageFilter\n",
    "import io"
   ]
  },
  {
   "cell_type": "code",
   "execution_count": null,
   "metadata": {},
   "outputs": [],
   "source": [
    "def id_to_image(ids: int) -> Image:\n",
    "    query = \"\"\"\n",
    "query ($search: Int) { # Define which variables will be used (id)\n",
    "Media (id: $search, type: MANGA) { # The sort param was POPULARITY_DESC\n",
    "    coverImage {\n",
    "        large\n",
    "    }\n",
    "    }\n",
    "}\n",
    "\"\"\"\n",
    "\n",
    "    variables = {\"search\": ids}\n",
    "\n",
    "    req =  requests.post(\n",
    "    \"https://graphql.anilist.co\",\n",
    "    json={\"query\": query, \"variables\": variables},\n",
    "    timeout=10,\n",
    "    ).json()\n",
    "    a = Image.open(io.BytesIO(requests.get(req['data']['Media']['coverImage']['large']).content))\n",
    "    # a.show()\n",
    "    return a\n"
   ]
  },
  {
   "cell_type": "code",
   "execution_count": null,
   "metadata": {},
   "outputs": [],
   "source": [
    "\n",
    "final_images = []\n",
    "\n",
    "for item in real_final_list[:9]:\n",
    "    final_images.append(id_to_image(item[0]))"
   ]
  },
  {
   "cell_type": "code",
   "execution_count": null,
   "metadata": {},
   "outputs": [],
   "source": [
    "def make3x3(images, annotations):\n",
    "    # timeInit = time.time()\n",
    "    _3x3 = Image.new(\"RGB\", (900,900), (255,255,255))\n",
    "    draw = ImageDraw.Draw(_3x3) # Danger code\n",
    "    # draw.text(shadow_position, annotation, font=font, fill=shadow_color)\n",
    "        # draw.text((x, y), annotation, , fill=(255, 255, 255))\n",
    "    font = ImageFont.truetype(\"arial.ttf\", 20)\n",
    "\n",
    "    for i,img in enumerate(images):\n",
    "        # j = i+1\n",
    "        x = (i%3)*300\n",
    "        # if(i%3 == 0):\n",
    "        #     x = 0\n",
    "        # elif(i%3 == 1):\n",
    "        #     x = 300\n",
    "        # else: x = 600 \n",
    "\n",
    "        y = int(i/3)*300\n",
    "            \n",
    "        # if(i < 3):\n",
    "        #     y = 0\n",
    "        # elif(i < 6):\n",
    "        #     y = 300\n",
    "        # else: y = 600\n",
    "        \n",
    "        # print(\"I is: \", i)\n",
    "        size = width, height = img.size\n",
    "        sizetuple = (0, 0, width, width) if height > width else (0, 0, height, height)\n",
    "        # print(\"Size tuple: \", sizetuple)\n",
    "        \n",
    "        '''\n",
    "        TODO \n",
    "        If the image is wider, crop centre-wise. For taller ones, height-wise is fine\n",
    "        '''\n",
    "        img = img.crop((0, 0, width, width) if height >= width else ((width-height)/2, 0, (width+height)/2, height)).resize((300,300))\n",
    "        # print(img.size)\n",
    "        # img.show()\n",
    "        \n",
    "        _3x3.paste(img, (x,y))\n",
    "        draw.text((x, y), annotations[i], font=font, fill=(67, 64, 138)) #Danger code\n",
    "        # _3x3.show()\n",
    "    # print(\"time: \", time.time()-timeInit)\n",
    "    return _3x3"
   ]
  },
  {
   "cell_type": "code",
   "execution_count": null,
   "metadata": {},
   "outputs": [],
   "source": [
    "annotations = []\n",
    "for item in real_final_list[:9]:\n",
    "    annotations.append(item[2])"
   ]
  },
  {
   "cell_type": "code",
   "execution_count": null,
   "metadata": {},
   "outputs": [],
   "source": [
    "new = []\n",
    "for ratings_dec in annotations:\n",
    "    # ratings_dec = \"{:.2f}\".format(ratings_dec)\n",
    "    new.append(\"{:.2f}\".format(ratings_dec))"
   ]
  },
  {
   "cell_type": "code",
   "execution_count": null,
   "metadata": {},
   "outputs": [],
   "source": [
    "final_images_3x3 = make3x3(final_images, new)\n",
    "final_images_3x3"
   ]
  },
  {
   "cell_type": "code",
   "execution_count": null,
   "metadata": {},
   "outputs": [],
   "source": []
  },
  {
   "cell_type": "code",
   "execution_count": null,
   "metadata": {},
   "outputs": [],
   "source": [
    "\n",
    "# annotations"
   ]
  }
 ],
 "metadata": {
  "kernelspec": {
   "display_name": "Python 3",
   "language": "python",
   "name": "python3"
  },
  "language_info": {
   "codemirror_mode": {
    "name": "ipython",
    "version": 3
   },
   "file_extension": ".py",
   "mimetype": "text/x-python",
   "name": "python",
   "nbconvert_exporter": "python",
   "pygments_lexer": "ipython3",
   "version": "3.10.11"
  },
  "orig_nbformat": 4
 },
 "nbformat": 4,
 "nbformat_minor": 2
}
